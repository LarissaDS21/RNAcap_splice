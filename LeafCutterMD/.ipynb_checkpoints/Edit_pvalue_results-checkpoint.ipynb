{
 "cells": [
  {
   "cell_type": "code",
   "execution_count": 1,
   "id": "d43ba7d4-9b73-464a-bc79-3615c2776fa8",
   "metadata": {
    "execution": {
     "iopub.execute_input": "2024-09-11T16:58:35.310583Z",
     "iopub.status.busy": "2024-09-11T16:58:35.305545Z",
     "iopub.status.idle": "2024-09-11T16:58:42.735389Z",
     "shell.execute_reply": "2024-09-11T16:58:42.732923Z"
    },
    "vscode": {
     "languageId": "r"
    }
   },
   "outputs": [
    {
     "name": "stderr",
     "output_type": "stream",
     "text": [
      "── \u001b[1mAttaching core tidyverse packages\u001b[22m ──────────────────────── tidyverse 2.0.0 ──\n",
      "\u001b[32m✔\u001b[39m \u001b[34mdplyr    \u001b[39m 1.1.3     \u001b[32m✔\u001b[39m \u001b[34mreadr    \u001b[39m 2.1.4\n",
      "\u001b[32m✔\u001b[39m \u001b[34mforcats  \u001b[39m 1.0.0     \u001b[32m✔\u001b[39m \u001b[34mstringr  \u001b[39m 1.5.0\n",
      "\u001b[32m✔\u001b[39m \u001b[34mggplot2  \u001b[39m 3.4.4     \u001b[32m✔\u001b[39m \u001b[34mtibble   \u001b[39m 3.2.1\n",
      "\u001b[32m✔\u001b[39m \u001b[34mlubridate\u001b[39m 1.9.3     \u001b[32m✔\u001b[39m \u001b[34mtidyr    \u001b[39m 1.3.0\n",
      "\u001b[32m✔\u001b[39m \u001b[34mpurrr    \u001b[39m 1.0.2     \n",
      "── \u001b[1mConflicts\u001b[22m ────────────────────────────────────────── tidyverse_conflicts() ──\n",
      "\u001b[31m✖\u001b[39m \u001b[34mdplyr\u001b[39m::\u001b[32mfilter()\u001b[39m masks \u001b[34mstats\u001b[39m::filter()\n",
      "\u001b[31m✖\u001b[39m \u001b[34mdplyr\u001b[39m::\u001b[32mlag()\u001b[39m    masks \u001b[34mstats\u001b[39m::lag()\n",
      "\u001b[36mℹ\u001b[39m Use the conflicted package (\u001b[3m\u001b[34m<http://conflicted.r-lib.org/>\u001b[39m\u001b[23m) to force all conflicts to become errors\n"
     ]
    }
   ],
   "source": [
    "library(tidyverse)"
   ]
  },
  {
   "cell_type": "code",
   "execution_count": 2,
   "id": "2e3ed7ce-0ac6-4b73-af3e-a39b0338307a",
   "metadata": {
    "execution": {
     "iopub.execute_input": "2024-09-11T16:58:49.118345Z",
     "iopub.status.busy": "2024-09-11T16:58:49.072402Z",
     "iopub.status.idle": "2024-09-11T16:58:49.138816Z",
     "shell.execute_reply": "2024-09-11T16:58:49.136509Z"
    },
    "vscode": {
     "languageId": "r"
    }
   },
   "outputs": [
    {
     "data": {
      "text/html": [
       "'/mnt/gluster01/lgbm/Larissa.Souza/PSI/LeafcutterMD/outlier_splice/set_24/RNAP-08'"
      ],
      "text/latex": [
       "'/mnt/gluster01/lgbm/Larissa.Souza/PSI/LeafcutterMD/outlier\\_splice/set\\_24/RNAP-08'"
      ],
      "text/markdown": [
       "'/mnt/gluster01/lgbm/Larissa.Souza/PSI/LeafcutterMD/outlier_splice/set_24/RNAP-08'"
      ],
      "text/plain": [
       "[1] \"/mnt/gluster01/lgbm/Larissa.Souza/PSI/LeafcutterMD/outlier_splice/set_24/RNAP-08\""
      ]
     },
     "metadata": {},
     "output_type": "display_data"
    }
   ],
   "source": [
    "getwd() #pasta em que estou"
   ]
  },
  {
   "cell_type": "code",
   "execution_count": 3,
   "id": "5a547d69-aedb-4dee-b3b7-f11b52f9ef2c",
   "metadata": {
    "execution": {
     "iopub.execute_input": "2024-09-11T16:59:04.027536Z",
     "iopub.status.busy": "2024-09-11T16:59:04.025486Z",
     "iopub.status.idle": "2024-09-11T16:59:04.436247Z",
     "shell.execute_reply": "2024-09-11T16:59:04.433725Z"
    }
   },
   "outputs": [],
   "source": [
    "a <- as.matrix(read.table(\"ctrlsVScase_pVals.txt\", sep=\"\\t\", header=T, row.names=1))"
   ]
  },
  {
   "cell_type": "code",
   "execution_count": 4,
   "id": "30cff3a4-e0b9-46ff-bb26-4766feeac027",
   "metadata": {
    "execution": {
     "iopub.execute_input": "2024-09-11T16:59:30.887833Z",
     "iopub.status.busy": "2024-09-11T16:59:30.885761Z",
     "iopub.status.idle": "2024-09-11T16:59:30.921725Z",
     "shell.execute_reply": "2024-09-11T16:59:30.919181Z"
    }
   },
   "outputs": [],
   "source": [
    "b <- as.data.frame(a) %>% rownames_to_column(\"coord\")"
   ]
  },
  {
   "cell_type": "code",
   "execution_count": 5,
   "id": "1af10076-943e-497b-9ce9-ceb2f8e44fa5",
   "metadata": {
    "execution": {
     "iopub.execute_input": "2024-09-11T16:59:36.400818Z",
     "iopub.status.busy": "2024-09-11T16:59:36.398767Z",
     "iopub.status.idle": "2024-09-11T16:59:36.494161Z",
     "shell.execute_reply": "2024-09-11T16:59:36.491823Z"
    }
   },
   "outputs": [
    {
     "data": {
      "text/html": [
       "<table class=\"dataframe\">\n",
       "<caption>A data.frame: 6 × 49</caption>\n",
       "<thead>\n",
       "\t<tr><th></th><th scope=col>coord</th><th scope=col>RNAP.08_Aligned.sortedByCoord.out.bam</th><th scope=col>CTRL.100_Aligned.sortedByCoord.out.bam</th><th scope=col>CTRL.102_Aligned.sortedByCoord.out.bam</th><th scope=col>CTRL.103_Aligned.sortedByCoord.out.bam</th><th scope=col>CTRL.104_Aligned.sortedByCoord.out.bam</th><th scope=col>CTRL.105_Aligned.sortedByCoord.out.bam</th><th scope=col>CTRL.106_Aligned.sortedByCoord.out.bam</th><th scope=col>CTRL.107_Aligned.sortedByCoord.out.bam</th><th scope=col>CTRL.108_Aligned.sortedByCoord.out.bam</th><th scope=col>⋯</th><th scope=col>SRR10970775_Aligned.sortedByCoord.out.bam</th><th scope=col>SRR10970777_Aligned.sortedByCoord.out.bam</th><th scope=col>SRR10970782_Aligned.sortedByCoord.out.bam</th><th scope=col>SRR10970786_Aligned.sortedByCoord.out.bam</th><th scope=col>SRR10970794_Aligned.sortedByCoord.out.bam</th><th scope=col>SRR10970800_Aligned.sortedByCoord.out.bam</th><th scope=col>SRR10970801_Aligned.sortedByCoord.out.bam</th><th scope=col>SRR10970806_Aligned.sortedByCoord.out.bam</th><th scope=col>SRR10970837_Aligned.sortedByCoord.out.bam</th><th scope=col>SRR10970997_Aligned.sortedByCoord.out.bam</th></tr>\n",
       "\t<tr><th></th><th scope=col>&lt;chr&gt;</th><th scope=col>&lt;dbl&gt;</th><th scope=col>&lt;dbl&gt;</th><th scope=col>&lt;dbl&gt;</th><th scope=col>&lt;dbl&gt;</th><th scope=col>&lt;dbl&gt;</th><th scope=col>&lt;dbl&gt;</th><th scope=col>&lt;dbl&gt;</th><th scope=col>&lt;dbl&gt;</th><th scope=col>&lt;dbl&gt;</th><th scope=col>⋯</th><th scope=col>&lt;dbl&gt;</th><th scope=col>&lt;dbl&gt;</th><th scope=col>&lt;dbl&gt;</th><th scope=col>&lt;dbl&gt;</th><th scope=col>&lt;dbl&gt;</th><th scope=col>&lt;dbl&gt;</th><th scope=col>&lt;dbl&gt;</th><th scope=col>&lt;dbl&gt;</th><th scope=col>&lt;dbl&gt;</th><th scope=col>&lt;dbl&gt;</th></tr>\n",
       "</thead>\n",
       "<tbody>\n",
       "\t<tr><th scope=row>1</th><td>1:808623:808731:clu_1071_NA  </td><td>0.06467672</td><td>1.0000000</td><td>1.0000000</td><td>1.000000</td><td>1.0000000</td><td>1.0000000</td><td>1.000000</td><td>1.0000000</td><td>1.0000000</td><td>⋯</td><td>1.0000000</td><td>1.0000000</td><td>1.0000000</td><td>1.0000000</td><td>1.0000000</td><td>1.0000000</td><td>1.0000000</td><td>1.000000</td><td>1.0000000</td><td>1.0000000</td></tr>\n",
       "\t<tr><th scope=row>2</th><td>1:808623:810067:clu_1071_NA  </td><td>0.06467672</td><td>1.0000000</td><td>1.0000000</td><td>1.000000</td><td>1.0000000</td><td>1.0000000</td><td>1.000000</td><td>1.0000000</td><td>1.0000000</td><td>⋯</td><td>1.0000000</td><td>1.0000000</td><td>1.0000000</td><td>1.0000000</td><td>1.0000000</td><td>1.0000000</td><td>1.0000000</td><td>1.000000</td><td>1.0000000</td><td>1.0000000</td></tr>\n",
       "\t<tr><th scope=row>3</th><td>1:1649637:1652439:clu_1073_NA</td><td>0.36900159</td><td>0.8739312</td><td>0.8739312</td><td>1.000000</td><td>0.8739312</td><td>0.8739312</td><td>1.000000</td><td>0.8739312</td><td>0.7098175</td><td>⋯</td><td>0.8739312</td><td>0.8739312</td><td>0.8739312</td><td>0.8739312</td><td>0.8739312</td><td>0.8739312</td><td>0.8739312</td><td>1.000000</td><td>0.8739312</td><td>0.8739312</td></tr>\n",
       "\t<tr><th scope=row>4</th><td>1:1649637:1652469:clu_1073_NA</td><td>0.78793159</td><td>1.0000000</td><td>1.0000000</td><td>1.000000</td><td>1.0000000</td><td>1.0000000</td><td>1.000000</td><td>1.0000000</td><td>1.0000000</td><td>⋯</td><td>1.0000000</td><td>1.0000000</td><td>1.0000000</td><td>1.0000000</td><td>1.0000000</td><td>1.0000000</td><td>1.0000000</td><td>1.000000</td><td>1.0000000</td><td>1.0000000</td></tr>\n",
       "\t<tr><th scope=row>5</th><td>1:1649637:1716151:clu_1073_NA</td><td>0.11839596</td><td>0.9882802</td><td>0.9882802</td><td>1.000000</td><td>0.9882802</td><td>0.9882802</td><td>1.000000</td><td>0.9882802</td><td>1.0000000</td><td>⋯</td><td>0.9882802</td><td>0.9882802</td><td>0.9882802</td><td>0.9882802</td><td>0.9882802</td><td>0.9882802</td><td>0.9882802</td><td>1.000000</td><td>0.9882802</td><td>0.9882802</td></tr>\n",
       "\t<tr><th scope=row>6</th><td>1:1716478:1716689:clu_1077_NA</td><td>0.79044162</td><td>0.9754610</td><td>1.0000000</td><td>0.975461</td><td>1.0000000</td><td>1.0000000</td><td>0.975461</td><td>1.0000000</td><td>0.9754610</td><td>⋯</td><td>0.9754610</td><td>0.9754610</td><td>0.9754610</td><td>0.9754610</td><td>0.9754610</td><td>1.0000000</td><td>0.9754610</td><td>0.975461</td><td>0.9754610</td><td>0.9754610</td></tr>\n",
       "</tbody>\n",
       "</table>\n"
      ],
      "text/latex": [
       "A data.frame: 6 × 49\n",
       "\\begin{tabular}{r|lllllllllllllllllllll}\n",
       "  & coord & RNAP.08\\_Aligned.sortedByCoord.out.bam & CTRL.100\\_Aligned.sortedByCoord.out.bam & CTRL.102\\_Aligned.sortedByCoord.out.bam & CTRL.103\\_Aligned.sortedByCoord.out.bam & CTRL.104\\_Aligned.sortedByCoord.out.bam & CTRL.105\\_Aligned.sortedByCoord.out.bam & CTRL.106\\_Aligned.sortedByCoord.out.bam & CTRL.107\\_Aligned.sortedByCoord.out.bam & CTRL.108\\_Aligned.sortedByCoord.out.bam & ⋯ & SRR10970775\\_Aligned.sortedByCoord.out.bam & SRR10970777\\_Aligned.sortedByCoord.out.bam & SRR10970782\\_Aligned.sortedByCoord.out.bam & SRR10970786\\_Aligned.sortedByCoord.out.bam & SRR10970794\\_Aligned.sortedByCoord.out.bam & SRR10970800\\_Aligned.sortedByCoord.out.bam & SRR10970801\\_Aligned.sortedByCoord.out.bam & SRR10970806\\_Aligned.sortedByCoord.out.bam & SRR10970837\\_Aligned.sortedByCoord.out.bam & SRR10970997\\_Aligned.sortedByCoord.out.bam\\\\\n",
       "  & <chr> & <dbl> & <dbl> & <dbl> & <dbl> & <dbl> & <dbl> & <dbl> & <dbl> & <dbl> & ⋯ & <dbl> & <dbl> & <dbl> & <dbl> & <dbl> & <dbl> & <dbl> & <dbl> & <dbl> & <dbl>\\\\\n",
       "\\hline\n",
       "\t1 & 1:808623:808731:clu\\_1071\\_NA   & 0.06467672 & 1.0000000 & 1.0000000 & 1.000000 & 1.0000000 & 1.0000000 & 1.000000 & 1.0000000 & 1.0000000 & ⋯ & 1.0000000 & 1.0000000 & 1.0000000 & 1.0000000 & 1.0000000 & 1.0000000 & 1.0000000 & 1.000000 & 1.0000000 & 1.0000000\\\\\n",
       "\t2 & 1:808623:810067:clu\\_1071\\_NA   & 0.06467672 & 1.0000000 & 1.0000000 & 1.000000 & 1.0000000 & 1.0000000 & 1.000000 & 1.0000000 & 1.0000000 & ⋯ & 1.0000000 & 1.0000000 & 1.0000000 & 1.0000000 & 1.0000000 & 1.0000000 & 1.0000000 & 1.000000 & 1.0000000 & 1.0000000\\\\\n",
       "\t3 & 1:1649637:1652439:clu\\_1073\\_NA & 0.36900159 & 0.8739312 & 0.8739312 & 1.000000 & 0.8739312 & 0.8739312 & 1.000000 & 0.8739312 & 0.7098175 & ⋯ & 0.8739312 & 0.8739312 & 0.8739312 & 0.8739312 & 0.8739312 & 0.8739312 & 0.8739312 & 1.000000 & 0.8739312 & 0.8739312\\\\\n",
       "\t4 & 1:1649637:1652469:clu\\_1073\\_NA & 0.78793159 & 1.0000000 & 1.0000000 & 1.000000 & 1.0000000 & 1.0000000 & 1.000000 & 1.0000000 & 1.0000000 & ⋯ & 1.0000000 & 1.0000000 & 1.0000000 & 1.0000000 & 1.0000000 & 1.0000000 & 1.0000000 & 1.000000 & 1.0000000 & 1.0000000\\\\\n",
       "\t5 & 1:1649637:1716151:clu\\_1073\\_NA & 0.11839596 & 0.9882802 & 0.9882802 & 1.000000 & 0.9882802 & 0.9882802 & 1.000000 & 0.9882802 & 1.0000000 & ⋯ & 0.9882802 & 0.9882802 & 0.9882802 & 0.9882802 & 0.9882802 & 0.9882802 & 0.9882802 & 1.000000 & 0.9882802 & 0.9882802\\\\\n",
       "\t6 & 1:1716478:1716689:clu\\_1077\\_NA & 0.79044162 & 0.9754610 & 1.0000000 & 0.975461 & 1.0000000 & 1.0000000 & 0.975461 & 1.0000000 & 0.9754610 & ⋯ & 0.9754610 & 0.9754610 & 0.9754610 & 0.9754610 & 0.9754610 & 1.0000000 & 0.9754610 & 0.975461 & 0.9754610 & 0.9754610\\\\\n",
       "\\end{tabular}\n"
      ],
      "text/markdown": [
       "\n",
       "A data.frame: 6 × 49\n",
       "\n",
       "| <!--/--> | coord &lt;chr&gt; | RNAP.08_Aligned.sortedByCoord.out.bam &lt;dbl&gt; | CTRL.100_Aligned.sortedByCoord.out.bam &lt;dbl&gt; | CTRL.102_Aligned.sortedByCoord.out.bam &lt;dbl&gt; | CTRL.103_Aligned.sortedByCoord.out.bam &lt;dbl&gt; | CTRL.104_Aligned.sortedByCoord.out.bam &lt;dbl&gt; | CTRL.105_Aligned.sortedByCoord.out.bam &lt;dbl&gt; | CTRL.106_Aligned.sortedByCoord.out.bam &lt;dbl&gt; | CTRL.107_Aligned.sortedByCoord.out.bam &lt;dbl&gt; | CTRL.108_Aligned.sortedByCoord.out.bam &lt;dbl&gt; | ⋯ ⋯ | SRR10970775_Aligned.sortedByCoord.out.bam &lt;dbl&gt; | SRR10970777_Aligned.sortedByCoord.out.bam &lt;dbl&gt; | SRR10970782_Aligned.sortedByCoord.out.bam &lt;dbl&gt; | SRR10970786_Aligned.sortedByCoord.out.bam &lt;dbl&gt; | SRR10970794_Aligned.sortedByCoord.out.bam &lt;dbl&gt; | SRR10970800_Aligned.sortedByCoord.out.bam &lt;dbl&gt; | SRR10970801_Aligned.sortedByCoord.out.bam &lt;dbl&gt; | SRR10970806_Aligned.sortedByCoord.out.bam &lt;dbl&gt; | SRR10970837_Aligned.sortedByCoord.out.bam &lt;dbl&gt; | SRR10970997_Aligned.sortedByCoord.out.bam &lt;dbl&gt; |\n",
       "|---|---|---|---|---|---|---|---|---|---|---|---|---|---|---|---|---|---|---|---|---|---|\n",
       "| 1 | 1:808623:808731:clu_1071_NA   | 0.06467672 | 1.0000000 | 1.0000000 | 1.000000 | 1.0000000 | 1.0000000 | 1.000000 | 1.0000000 | 1.0000000 | ⋯ | 1.0000000 | 1.0000000 | 1.0000000 | 1.0000000 | 1.0000000 | 1.0000000 | 1.0000000 | 1.000000 | 1.0000000 | 1.0000000 |\n",
       "| 2 | 1:808623:810067:clu_1071_NA   | 0.06467672 | 1.0000000 | 1.0000000 | 1.000000 | 1.0000000 | 1.0000000 | 1.000000 | 1.0000000 | 1.0000000 | ⋯ | 1.0000000 | 1.0000000 | 1.0000000 | 1.0000000 | 1.0000000 | 1.0000000 | 1.0000000 | 1.000000 | 1.0000000 | 1.0000000 |\n",
       "| 3 | 1:1649637:1652439:clu_1073_NA | 0.36900159 | 0.8739312 | 0.8739312 | 1.000000 | 0.8739312 | 0.8739312 | 1.000000 | 0.8739312 | 0.7098175 | ⋯ | 0.8739312 | 0.8739312 | 0.8739312 | 0.8739312 | 0.8739312 | 0.8739312 | 0.8739312 | 1.000000 | 0.8739312 | 0.8739312 |\n",
       "| 4 | 1:1649637:1652469:clu_1073_NA | 0.78793159 | 1.0000000 | 1.0000000 | 1.000000 | 1.0000000 | 1.0000000 | 1.000000 | 1.0000000 | 1.0000000 | ⋯ | 1.0000000 | 1.0000000 | 1.0000000 | 1.0000000 | 1.0000000 | 1.0000000 | 1.0000000 | 1.000000 | 1.0000000 | 1.0000000 |\n",
       "| 5 | 1:1649637:1716151:clu_1073_NA | 0.11839596 | 0.9882802 | 0.9882802 | 1.000000 | 0.9882802 | 0.9882802 | 1.000000 | 0.9882802 | 1.0000000 | ⋯ | 0.9882802 | 0.9882802 | 0.9882802 | 0.9882802 | 0.9882802 | 0.9882802 | 0.9882802 | 1.000000 | 0.9882802 | 0.9882802 |\n",
       "| 6 | 1:1716478:1716689:clu_1077_NA | 0.79044162 | 0.9754610 | 1.0000000 | 0.975461 | 1.0000000 | 1.0000000 | 0.975461 | 1.0000000 | 0.9754610 | ⋯ | 0.9754610 | 0.9754610 | 0.9754610 | 0.9754610 | 0.9754610 | 1.0000000 | 0.9754610 | 0.975461 | 0.9754610 | 0.9754610 |\n",
       "\n"
      ],
      "text/plain": [
       "  coord                         RNAP.08_Aligned.sortedByCoord.out.bam\n",
       "1 1:808623:808731:clu_1071_NA   0.06467672                           \n",
       "2 1:808623:810067:clu_1071_NA   0.06467672                           \n",
       "3 1:1649637:1652439:clu_1073_NA 0.36900159                           \n",
       "4 1:1649637:1652469:clu_1073_NA 0.78793159                           \n",
       "5 1:1649637:1716151:clu_1073_NA 0.11839596                           \n",
       "6 1:1716478:1716689:clu_1077_NA 0.79044162                           \n",
       "  CTRL.100_Aligned.sortedByCoord.out.bam CTRL.102_Aligned.sortedByCoord.out.bam\n",
       "1 1.0000000                              1.0000000                             \n",
       "2 1.0000000                              1.0000000                             \n",
       "3 0.8739312                              0.8739312                             \n",
       "4 1.0000000                              1.0000000                             \n",
       "5 0.9882802                              0.9882802                             \n",
       "6 0.9754610                              1.0000000                             \n",
       "  CTRL.103_Aligned.sortedByCoord.out.bam CTRL.104_Aligned.sortedByCoord.out.bam\n",
       "1 1.000000                               1.0000000                             \n",
       "2 1.000000                               1.0000000                             \n",
       "3 1.000000                               0.8739312                             \n",
       "4 1.000000                               1.0000000                             \n",
       "5 1.000000                               0.9882802                             \n",
       "6 0.975461                               1.0000000                             \n",
       "  CTRL.105_Aligned.sortedByCoord.out.bam CTRL.106_Aligned.sortedByCoord.out.bam\n",
       "1 1.0000000                              1.000000                              \n",
       "2 1.0000000                              1.000000                              \n",
       "3 0.8739312                              1.000000                              \n",
       "4 1.0000000                              1.000000                              \n",
       "5 0.9882802                              1.000000                              \n",
       "6 1.0000000                              0.975461                              \n",
       "  CTRL.107_Aligned.sortedByCoord.out.bam CTRL.108_Aligned.sortedByCoord.out.bam\n",
       "1 1.0000000                              1.0000000                             \n",
       "2 1.0000000                              1.0000000                             \n",
       "3 0.8739312                              0.7098175                             \n",
       "4 1.0000000                              1.0000000                             \n",
       "5 0.9882802                              1.0000000                             \n",
       "6 1.0000000                              0.9754610                             \n",
       "  ⋯ SRR10970775_Aligned.sortedByCoord.out.bam\n",
       "1 ⋯ 1.0000000                                \n",
       "2 ⋯ 1.0000000                                \n",
       "3 ⋯ 0.8739312                                \n",
       "4 ⋯ 1.0000000                                \n",
       "5 ⋯ 0.9882802                                \n",
       "6 ⋯ 0.9754610                                \n",
       "  SRR10970777_Aligned.sortedByCoord.out.bam\n",
       "1 1.0000000                                \n",
       "2 1.0000000                                \n",
       "3 0.8739312                                \n",
       "4 1.0000000                                \n",
       "5 0.9882802                                \n",
       "6 0.9754610                                \n",
       "  SRR10970782_Aligned.sortedByCoord.out.bam\n",
       "1 1.0000000                                \n",
       "2 1.0000000                                \n",
       "3 0.8739312                                \n",
       "4 1.0000000                                \n",
       "5 0.9882802                                \n",
       "6 0.9754610                                \n",
       "  SRR10970786_Aligned.sortedByCoord.out.bam\n",
       "1 1.0000000                                \n",
       "2 1.0000000                                \n",
       "3 0.8739312                                \n",
       "4 1.0000000                                \n",
       "5 0.9882802                                \n",
       "6 0.9754610                                \n",
       "  SRR10970794_Aligned.sortedByCoord.out.bam\n",
       "1 1.0000000                                \n",
       "2 1.0000000                                \n",
       "3 0.8739312                                \n",
       "4 1.0000000                                \n",
       "5 0.9882802                                \n",
       "6 0.9754610                                \n",
       "  SRR10970800_Aligned.sortedByCoord.out.bam\n",
       "1 1.0000000                                \n",
       "2 1.0000000                                \n",
       "3 0.8739312                                \n",
       "4 1.0000000                                \n",
       "5 0.9882802                                \n",
       "6 1.0000000                                \n",
       "  SRR10970801_Aligned.sortedByCoord.out.bam\n",
       "1 1.0000000                                \n",
       "2 1.0000000                                \n",
       "3 0.8739312                                \n",
       "4 1.0000000                                \n",
       "5 0.9882802                                \n",
       "6 0.9754610                                \n",
       "  SRR10970806_Aligned.sortedByCoord.out.bam\n",
       "1 1.000000                                 \n",
       "2 1.000000                                 \n",
       "3 1.000000                                 \n",
       "4 1.000000                                 \n",
       "5 1.000000                                 \n",
       "6 0.975461                                 \n",
       "  SRR10970837_Aligned.sortedByCoord.out.bam\n",
       "1 1.0000000                                \n",
       "2 1.0000000                                \n",
       "3 0.8739312                                \n",
       "4 1.0000000                                \n",
       "5 0.9882802                                \n",
       "6 0.9754610                                \n",
       "  SRR10970997_Aligned.sortedByCoord.out.bam\n",
       "1 1.0000000                                \n",
       "2 1.0000000                                \n",
       "3 0.8739312                                \n",
       "4 1.0000000                                \n",
       "5 0.9882802                                \n",
       "6 0.9754610                                "
      ]
     },
     "metadata": {},
     "output_type": "display_data"
    }
   ],
   "source": [
    "head (b)"
   ]
  },
  {
   "cell_type": "code",
   "execution_count": 6,
   "id": "1d84e77e-23b9-4cec-afd6-6f1207aba146",
   "metadata": {
    "execution": {
     "iopub.execute_input": "2024-09-11T16:59:52.439980Z",
     "iopub.status.busy": "2024-09-11T16:59:52.437640Z",
     "iopub.status.idle": "2024-09-11T16:59:52.460376Z",
     "shell.execute_reply": "2024-09-11T16:59:52.458099Z"
    },
    "scrolled": true
   },
   "outputs": [
    {
     "data": {
      "text/html": [
       "<style>\n",
       ".list-inline {list-style: none; margin:0; padding: 0}\n",
       ".list-inline>li {display: inline-block}\n",
       ".list-inline>li:not(:last-child)::after {content: \"\\00b7\"; padding: 0 .5ex}\n",
       "</style>\n",
       "<ol class=list-inline><li>'coord'</li><li>'RNAP.08_Aligned.sortedByCoord.out.bam'</li><li>'CTRL.100_Aligned.sortedByCoord.out.bam'</li><li>'CTRL.102_Aligned.sortedByCoord.out.bam'</li><li>'CTRL.103_Aligned.sortedByCoord.out.bam'</li><li>'CTRL.104_Aligned.sortedByCoord.out.bam'</li><li>'CTRL.105_Aligned.sortedByCoord.out.bam'</li><li>'CTRL.106_Aligned.sortedByCoord.out.bam'</li><li>'CTRL.107_Aligned.sortedByCoord.out.bam'</li><li>'CTRL.108_Aligned.sortedByCoord.out.bam'</li><li>'CTRL.109_Aligned.sortedByCoord.out.bam'</li><li>'CTRL.110_Aligned.sortedByCoord.out.bam'</li><li>'CTRL.111_Aligned.sortedByCoord.out.bam'</li><li>'CTRL.112_Aligned.sortedByCoord.out.bam'</li><li>'CTRL.113_Aligned.sortedByCoord.out.bam'</li><li>'CTRL.114_Aligned.sortedByCoord.out.bam'</li><li>'CTRL.115_Aligned.sortedByCoord.out.bam'</li><li>'CTRL.116_Aligned.sortedByCoord.out.bam'</li><li>'CTRL.117_Aligned.sortedByCoord.out.bam'</li><li>'CTRL.118_Aligned.sortedByCoord.out.bam'</li><li>'CTRL.119_Aligned.sortedByCoord.out.bam'</li><li>'SRR10970662_Aligned.sortedByCoord.out.bam'</li><li>'SRR10970663_Aligned.sortedByCoord.out.bam'</li><li>'SRR10970665_Aligned.sortedByCoord.out.bam'</li><li>'SRR10970668_Aligned.sortedByCoord.out.bam'</li><li>'SRR10970671_Aligned.sortedByCoord.out.bam'</li><li>'SRR10970674_Aligned.sortedByCoord.out.bam'</li><li>'SRR10970679_Aligned.sortedByCoord.out.bam'</li><li>'SRR10970684_Aligned.sortedByCoord.out.bam'</li><li>'SRR10970712_Aligned.sortedByCoord.out.bam'</li><li>'SRR10970713_Aligned.sortedByCoord.out.bam'</li><li>'SRR10970714_Aligned.sortedByCoord.out.bam'</li><li>'SRR10970715_Aligned.sortedByCoord.out.bam'</li><li>'SRR10970720_Aligned.sortedByCoord.out.bam'</li><li>'SRR10970725_Aligned.sortedByCoord.out.bam'</li><li>'SRR10970727_Aligned.sortedByCoord.out.bam'</li><li>'SRR10970729_Aligned.sortedByCoord.out.bam'</li><li>'SRR10970737_Aligned.sortedByCoord.out.bam'</li><li>'SRR10970748_Aligned.sortedByCoord.out.bam'</li><li>'SRR10970775_Aligned.sortedByCoord.out.bam'</li><li>'SRR10970777_Aligned.sortedByCoord.out.bam'</li><li>'SRR10970782_Aligned.sortedByCoord.out.bam'</li><li>'SRR10970786_Aligned.sortedByCoord.out.bam'</li><li>'SRR10970794_Aligned.sortedByCoord.out.bam'</li><li>'SRR10970800_Aligned.sortedByCoord.out.bam'</li><li>'SRR10970801_Aligned.sortedByCoord.out.bam'</li><li>'SRR10970806_Aligned.sortedByCoord.out.bam'</li><li>'SRR10970837_Aligned.sortedByCoord.out.bam'</li><li>'SRR10970997_Aligned.sortedByCoord.out.bam'</li></ol>\n"
      ],
      "text/latex": [
       "\\begin{enumerate*}\n",
       "\\item 'coord'\n",
       "\\item 'RNAP.08\\_Aligned.sortedByCoord.out.bam'\n",
       "\\item 'CTRL.100\\_Aligned.sortedByCoord.out.bam'\n",
       "\\item 'CTRL.102\\_Aligned.sortedByCoord.out.bam'\n",
       "\\item 'CTRL.103\\_Aligned.sortedByCoord.out.bam'\n",
       "\\item 'CTRL.104\\_Aligned.sortedByCoord.out.bam'\n",
       "\\item 'CTRL.105\\_Aligned.sortedByCoord.out.bam'\n",
       "\\item 'CTRL.106\\_Aligned.sortedByCoord.out.bam'\n",
       "\\item 'CTRL.107\\_Aligned.sortedByCoord.out.bam'\n",
       "\\item 'CTRL.108\\_Aligned.sortedByCoord.out.bam'\n",
       "\\item 'CTRL.109\\_Aligned.sortedByCoord.out.bam'\n",
       "\\item 'CTRL.110\\_Aligned.sortedByCoord.out.bam'\n",
       "\\item 'CTRL.111\\_Aligned.sortedByCoord.out.bam'\n",
       "\\item 'CTRL.112\\_Aligned.sortedByCoord.out.bam'\n",
       "\\item 'CTRL.113\\_Aligned.sortedByCoord.out.bam'\n",
       "\\item 'CTRL.114\\_Aligned.sortedByCoord.out.bam'\n",
       "\\item 'CTRL.115\\_Aligned.sortedByCoord.out.bam'\n",
       "\\item 'CTRL.116\\_Aligned.sortedByCoord.out.bam'\n",
       "\\item 'CTRL.117\\_Aligned.sortedByCoord.out.bam'\n",
       "\\item 'CTRL.118\\_Aligned.sortedByCoord.out.bam'\n",
       "\\item 'CTRL.119\\_Aligned.sortedByCoord.out.bam'\n",
       "\\item 'SRR10970662\\_Aligned.sortedByCoord.out.bam'\n",
       "\\item 'SRR10970663\\_Aligned.sortedByCoord.out.bam'\n",
       "\\item 'SRR10970665\\_Aligned.sortedByCoord.out.bam'\n",
       "\\item 'SRR10970668\\_Aligned.sortedByCoord.out.bam'\n",
       "\\item 'SRR10970671\\_Aligned.sortedByCoord.out.bam'\n",
       "\\item 'SRR10970674\\_Aligned.sortedByCoord.out.bam'\n",
       "\\item 'SRR10970679\\_Aligned.sortedByCoord.out.bam'\n",
       "\\item 'SRR10970684\\_Aligned.sortedByCoord.out.bam'\n",
       "\\item 'SRR10970712\\_Aligned.sortedByCoord.out.bam'\n",
       "\\item 'SRR10970713\\_Aligned.sortedByCoord.out.bam'\n",
       "\\item 'SRR10970714\\_Aligned.sortedByCoord.out.bam'\n",
       "\\item 'SRR10970715\\_Aligned.sortedByCoord.out.bam'\n",
       "\\item 'SRR10970720\\_Aligned.sortedByCoord.out.bam'\n",
       "\\item 'SRR10970725\\_Aligned.sortedByCoord.out.bam'\n",
       "\\item 'SRR10970727\\_Aligned.sortedByCoord.out.bam'\n",
       "\\item 'SRR10970729\\_Aligned.sortedByCoord.out.bam'\n",
       "\\item 'SRR10970737\\_Aligned.sortedByCoord.out.bam'\n",
       "\\item 'SRR10970748\\_Aligned.sortedByCoord.out.bam'\n",
       "\\item 'SRR10970775\\_Aligned.sortedByCoord.out.bam'\n",
       "\\item 'SRR10970777\\_Aligned.sortedByCoord.out.bam'\n",
       "\\item 'SRR10970782\\_Aligned.sortedByCoord.out.bam'\n",
       "\\item 'SRR10970786\\_Aligned.sortedByCoord.out.bam'\n",
       "\\item 'SRR10970794\\_Aligned.sortedByCoord.out.bam'\n",
       "\\item 'SRR10970800\\_Aligned.sortedByCoord.out.bam'\n",
       "\\item 'SRR10970801\\_Aligned.sortedByCoord.out.bam'\n",
       "\\item 'SRR10970806\\_Aligned.sortedByCoord.out.bam'\n",
       "\\item 'SRR10970837\\_Aligned.sortedByCoord.out.bam'\n",
       "\\item 'SRR10970997\\_Aligned.sortedByCoord.out.bam'\n",
       "\\end{enumerate*}\n"
      ],
      "text/markdown": [
       "1. 'coord'\n",
       "2. 'RNAP.08_Aligned.sortedByCoord.out.bam'\n",
       "3. 'CTRL.100_Aligned.sortedByCoord.out.bam'\n",
       "4. 'CTRL.102_Aligned.sortedByCoord.out.bam'\n",
       "5. 'CTRL.103_Aligned.sortedByCoord.out.bam'\n",
       "6. 'CTRL.104_Aligned.sortedByCoord.out.bam'\n",
       "7. 'CTRL.105_Aligned.sortedByCoord.out.bam'\n",
       "8. 'CTRL.106_Aligned.sortedByCoord.out.bam'\n",
       "9. 'CTRL.107_Aligned.sortedByCoord.out.bam'\n",
       "10. 'CTRL.108_Aligned.sortedByCoord.out.bam'\n",
       "11. 'CTRL.109_Aligned.sortedByCoord.out.bam'\n",
       "12. 'CTRL.110_Aligned.sortedByCoord.out.bam'\n",
       "13. 'CTRL.111_Aligned.sortedByCoord.out.bam'\n",
       "14. 'CTRL.112_Aligned.sortedByCoord.out.bam'\n",
       "15. 'CTRL.113_Aligned.sortedByCoord.out.bam'\n",
       "16. 'CTRL.114_Aligned.sortedByCoord.out.bam'\n",
       "17. 'CTRL.115_Aligned.sortedByCoord.out.bam'\n",
       "18. 'CTRL.116_Aligned.sortedByCoord.out.bam'\n",
       "19. 'CTRL.117_Aligned.sortedByCoord.out.bam'\n",
       "20. 'CTRL.118_Aligned.sortedByCoord.out.bam'\n",
       "21. 'CTRL.119_Aligned.sortedByCoord.out.bam'\n",
       "22. 'SRR10970662_Aligned.sortedByCoord.out.bam'\n",
       "23. 'SRR10970663_Aligned.sortedByCoord.out.bam'\n",
       "24. 'SRR10970665_Aligned.sortedByCoord.out.bam'\n",
       "25. 'SRR10970668_Aligned.sortedByCoord.out.bam'\n",
       "26. 'SRR10970671_Aligned.sortedByCoord.out.bam'\n",
       "27. 'SRR10970674_Aligned.sortedByCoord.out.bam'\n",
       "28. 'SRR10970679_Aligned.sortedByCoord.out.bam'\n",
       "29. 'SRR10970684_Aligned.sortedByCoord.out.bam'\n",
       "30. 'SRR10970712_Aligned.sortedByCoord.out.bam'\n",
       "31. 'SRR10970713_Aligned.sortedByCoord.out.bam'\n",
       "32. 'SRR10970714_Aligned.sortedByCoord.out.bam'\n",
       "33. 'SRR10970715_Aligned.sortedByCoord.out.bam'\n",
       "34. 'SRR10970720_Aligned.sortedByCoord.out.bam'\n",
       "35. 'SRR10970725_Aligned.sortedByCoord.out.bam'\n",
       "36. 'SRR10970727_Aligned.sortedByCoord.out.bam'\n",
       "37. 'SRR10970729_Aligned.sortedByCoord.out.bam'\n",
       "38. 'SRR10970737_Aligned.sortedByCoord.out.bam'\n",
       "39. 'SRR10970748_Aligned.sortedByCoord.out.bam'\n",
       "40. 'SRR10970775_Aligned.sortedByCoord.out.bam'\n",
       "41. 'SRR10970777_Aligned.sortedByCoord.out.bam'\n",
       "42. 'SRR10970782_Aligned.sortedByCoord.out.bam'\n",
       "43. 'SRR10970786_Aligned.sortedByCoord.out.bam'\n",
       "44. 'SRR10970794_Aligned.sortedByCoord.out.bam'\n",
       "45. 'SRR10970800_Aligned.sortedByCoord.out.bam'\n",
       "46. 'SRR10970801_Aligned.sortedByCoord.out.bam'\n",
       "47. 'SRR10970806_Aligned.sortedByCoord.out.bam'\n",
       "48. 'SRR10970837_Aligned.sortedByCoord.out.bam'\n",
       "49. 'SRR10970997_Aligned.sortedByCoord.out.bam'\n",
       "\n",
       "\n"
      ],
      "text/plain": [
       " [1] \"coord\"                                    \n",
       " [2] \"RNAP.08_Aligned.sortedByCoord.out.bam\"    \n",
       " [3] \"CTRL.100_Aligned.sortedByCoord.out.bam\"   \n",
       " [4] \"CTRL.102_Aligned.sortedByCoord.out.bam\"   \n",
       " [5] \"CTRL.103_Aligned.sortedByCoord.out.bam\"   \n",
       " [6] \"CTRL.104_Aligned.sortedByCoord.out.bam\"   \n",
       " [7] \"CTRL.105_Aligned.sortedByCoord.out.bam\"   \n",
       " [8] \"CTRL.106_Aligned.sortedByCoord.out.bam\"   \n",
       " [9] \"CTRL.107_Aligned.sortedByCoord.out.bam\"   \n",
       "[10] \"CTRL.108_Aligned.sortedByCoord.out.bam\"   \n",
       "[11] \"CTRL.109_Aligned.sortedByCoord.out.bam\"   \n",
       "[12] \"CTRL.110_Aligned.sortedByCoord.out.bam\"   \n",
       "[13] \"CTRL.111_Aligned.sortedByCoord.out.bam\"   \n",
       "[14] \"CTRL.112_Aligned.sortedByCoord.out.bam\"   \n",
       "[15] \"CTRL.113_Aligned.sortedByCoord.out.bam\"   \n",
       "[16] \"CTRL.114_Aligned.sortedByCoord.out.bam\"   \n",
       "[17] \"CTRL.115_Aligned.sortedByCoord.out.bam\"   \n",
       "[18] \"CTRL.116_Aligned.sortedByCoord.out.bam\"   \n",
       "[19] \"CTRL.117_Aligned.sortedByCoord.out.bam\"   \n",
       "[20] \"CTRL.118_Aligned.sortedByCoord.out.bam\"   \n",
       "[21] \"CTRL.119_Aligned.sortedByCoord.out.bam\"   \n",
       "[22] \"SRR10970662_Aligned.sortedByCoord.out.bam\"\n",
       "[23] \"SRR10970663_Aligned.sortedByCoord.out.bam\"\n",
       "[24] \"SRR10970665_Aligned.sortedByCoord.out.bam\"\n",
       "[25] \"SRR10970668_Aligned.sortedByCoord.out.bam\"\n",
       "[26] \"SRR10970671_Aligned.sortedByCoord.out.bam\"\n",
       "[27] \"SRR10970674_Aligned.sortedByCoord.out.bam\"\n",
       "[28] \"SRR10970679_Aligned.sortedByCoord.out.bam\"\n",
       "[29] \"SRR10970684_Aligned.sortedByCoord.out.bam\"\n",
       "[30] \"SRR10970712_Aligned.sortedByCoord.out.bam\"\n",
       "[31] \"SRR10970713_Aligned.sortedByCoord.out.bam\"\n",
       "[32] \"SRR10970714_Aligned.sortedByCoord.out.bam\"\n",
       "[33] \"SRR10970715_Aligned.sortedByCoord.out.bam\"\n",
       "[34] \"SRR10970720_Aligned.sortedByCoord.out.bam\"\n",
       "[35] \"SRR10970725_Aligned.sortedByCoord.out.bam\"\n",
       "[36] \"SRR10970727_Aligned.sortedByCoord.out.bam\"\n",
       "[37] \"SRR10970729_Aligned.sortedByCoord.out.bam\"\n",
       "[38] \"SRR10970737_Aligned.sortedByCoord.out.bam\"\n",
       "[39] \"SRR10970748_Aligned.sortedByCoord.out.bam\"\n",
       "[40] \"SRR10970775_Aligned.sortedByCoord.out.bam\"\n",
       "[41] \"SRR10970777_Aligned.sortedByCoord.out.bam\"\n",
       "[42] \"SRR10970782_Aligned.sortedByCoord.out.bam\"\n",
       "[43] \"SRR10970786_Aligned.sortedByCoord.out.bam\"\n",
       "[44] \"SRR10970794_Aligned.sortedByCoord.out.bam\"\n",
       "[45] \"SRR10970800_Aligned.sortedByCoord.out.bam\"\n",
       "[46] \"SRR10970801_Aligned.sortedByCoord.out.bam\"\n",
       "[47] \"SRR10970806_Aligned.sortedByCoord.out.bam\"\n",
       "[48] \"SRR10970837_Aligned.sortedByCoord.out.bam\"\n",
       "[49] \"SRR10970997_Aligned.sortedByCoord.out.bam\""
      ]
     },
     "metadata": {},
     "output_type": "display_data"
    }
   ],
   "source": [
    "colnames (b)"
   ]
  },
  {
   "cell_type": "code",
   "execution_count": 7,
   "id": "49251587-3421-4d11-946f-242c05e4d100",
   "metadata": {
    "execution": {
     "iopub.execute_input": "2024-09-11T17:00:23.807586Z",
     "iopub.status.busy": "2024-09-11T17:00:23.805274Z",
     "iopub.status.idle": "2024-09-11T17:00:23.938449Z",
     "shell.execute_reply": "2024-09-11T17:00:23.936079Z"
    },
    "scrolled": true
   },
   "outputs": [
    {
     "data": {
      "text/html": [
       "<table class=\"dataframe\">\n",
       "<caption>A data.frame: 6 × 49</caption>\n",
       "<thead>\n",
       "\t<tr><th></th><th scope=col>coord</th><th scope=col>RNAP.08</th><th scope=col>CTRL.100</th><th scope=col>CTRL.102</th><th scope=col>CTRL.103</th><th scope=col>CTRL.104</th><th scope=col>CTRL.105</th><th scope=col>CTRL.106</th><th scope=col>CTRL.107</th><th scope=col>CTRL.108</th><th scope=col>⋯</th><th scope=col>SRR10970775</th><th scope=col>SRR10970777</th><th scope=col>SRR10970782</th><th scope=col>SRR10970786</th><th scope=col>SRR10970794</th><th scope=col>SRR10970800</th><th scope=col>SRR10970801</th><th scope=col>SRR10970806</th><th scope=col>SRR10970837</th><th scope=col>SRR10970997</th></tr>\n",
       "\t<tr><th></th><th scope=col>&lt;chr&gt;</th><th scope=col>&lt;dbl&gt;</th><th scope=col>&lt;dbl&gt;</th><th scope=col>&lt;dbl&gt;</th><th scope=col>&lt;dbl&gt;</th><th scope=col>&lt;dbl&gt;</th><th scope=col>&lt;dbl&gt;</th><th scope=col>&lt;dbl&gt;</th><th scope=col>&lt;dbl&gt;</th><th scope=col>&lt;dbl&gt;</th><th scope=col>⋯</th><th scope=col>&lt;dbl&gt;</th><th scope=col>&lt;dbl&gt;</th><th scope=col>&lt;dbl&gt;</th><th scope=col>&lt;dbl&gt;</th><th scope=col>&lt;dbl&gt;</th><th scope=col>&lt;dbl&gt;</th><th scope=col>&lt;dbl&gt;</th><th scope=col>&lt;dbl&gt;</th><th scope=col>&lt;dbl&gt;</th><th scope=col>&lt;dbl&gt;</th></tr>\n",
       "</thead>\n",
       "<tbody>\n",
       "\t<tr><th scope=row>1</th><td>1:808623:808731:clu_1071_NA  </td><td>0.06467672</td><td>1.0000000</td><td>1.0000000</td><td>1.000000</td><td>1.0000000</td><td>1.0000000</td><td>1.000000</td><td>1.0000000</td><td>1.0000000</td><td>⋯</td><td>1.0000000</td><td>1.0000000</td><td>1.0000000</td><td>1.0000000</td><td>1.0000000</td><td>1.0000000</td><td>1.0000000</td><td>1.000000</td><td>1.0000000</td><td>1.0000000</td></tr>\n",
       "\t<tr><th scope=row>2</th><td>1:808623:810067:clu_1071_NA  </td><td>0.06467672</td><td>1.0000000</td><td>1.0000000</td><td>1.000000</td><td>1.0000000</td><td>1.0000000</td><td>1.000000</td><td>1.0000000</td><td>1.0000000</td><td>⋯</td><td>1.0000000</td><td>1.0000000</td><td>1.0000000</td><td>1.0000000</td><td>1.0000000</td><td>1.0000000</td><td>1.0000000</td><td>1.000000</td><td>1.0000000</td><td>1.0000000</td></tr>\n",
       "\t<tr><th scope=row>3</th><td>1:1649637:1652439:clu_1073_NA</td><td>0.36900159</td><td>0.8739312</td><td>0.8739312</td><td>1.000000</td><td>0.8739312</td><td>0.8739312</td><td>1.000000</td><td>0.8739312</td><td>0.7098175</td><td>⋯</td><td>0.8739312</td><td>0.8739312</td><td>0.8739312</td><td>0.8739312</td><td>0.8739312</td><td>0.8739312</td><td>0.8739312</td><td>1.000000</td><td>0.8739312</td><td>0.8739312</td></tr>\n",
       "\t<tr><th scope=row>4</th><td>1:1649637:1652469:clu_1073_NA</td><td>0.78793159</td><td>1.0000000</td><td>1.0000000</td><td>1.000000</td><td>1.0000000</td><td>1.0000000</td><td>1.000000</td><td>1.0000000</td><td>1.0000000</td><td>⋯</td><td>1.0000000</td><td>1.0000000</td><td>1.0000000</td><td>1.0000000</td><td>1.0000000</td><td>1.0000000</td><td>1.0000000</td><td>1.000000</td><td>1.0000000</td><td>1.0000000</td></tr>\n",
       "\t<tr><th scope=row>5</th><td>1:1649637:1716151:clu_1073_NA</td><td>0.11839596</td><td>0.9882802</td><td>0.9882802</td><td>1.000000</td><td>0.9882802</td><td>0.9882802</td><td>1.000000</td><td>0.9882802</td><td>1.0000000</td><td>⋯</td><td>0.9882802</td><td>0.9882802</td><td>0.9882802</td><td>0.9882802</td><td>0.9882802</td><td>0.9882802</td><td>0.9882802</td><td>1.000000</td><td>0.9882802</td><td>0.9882802</td></tr>\n",
       "\t<tr><th scope=row>6</th><td>1:1716478:1716689:clu_1077_NA</td><td>0.79044162</td><td>0.9754610</td><td>1.0000000</td><td>0.975461</td><td>1.0000000</td><td>1.0000000</td><td>0.975461</td><td>1.0000000</td><td>0.9754610</td><td>⋯</td><td>0.9754610</td><td>0.9754610</td><td>0.9754610</td><td>0.9754610</td><td>0.9754610</td><td>1.0000000</td><td>0.9754610</td><td>0.975461</td><td>0.9754610</td><td>0.9754610</td></tr>\n",
       "</tbody>\n",
       "</table>\n"
      ],
      "text/latex": [
       "A data.frame: 6 × 49\n",
       "\\begin{tabular}{r|lllllllllllllllllllll}\n",
       "  & coord & RNAP.08 & CTRL.100 & CTRL.102 & CTRL.103 & CTRL.104 & CTRL.105 & CTRL.106 & CTRL.107 & CTRL.108 & ⋯ & SRR10970775 & SRR10970777 & SRR10970782 & SRR10970786 & SRR10970794 & SRR10970800 & SRR10970801 & SRR10970806 & SRR10970837 & SRR10970997\\\\\n",
       "  & <chr> & <dbl> & <dbl> & <dbl> & <dbl> & <dbl> & <dbl> & <dbl> & <dbl> & <dbl> & ⋯ & <dbl> & <dbl> & <dbl> & <dbl> & <dbl> & <dbl> & <dbl> & <dbl> & <dbl> & <dbl>\\\\\n",
       "\\hline\n",
       "\t1 & 1:808623:808731:clu\\_1071\\_NA   & 0.06467672 & 1.0000000 & 1.0000000 & 1.000000 & 1.0000000 & 1.0000000 & 1.000000 & 1.0000000 & 1.0000000 & ⋯ & 1.0000000 & 1.0000000 & 1.0000000 & 1.0000000 & 1.0000000 & 1.0000000 & 1.0000000 & 1.000000 & 1.0000000 & 1.0000000\\\\\n",
       "\t2 & 1:808623:810067:clu\\_1071\\_NA   & 0.06467672 & 1.0000000 & 1.0000000 & 1.000000 & 1.0000000 & 1.0000000 & 1.000000 & 1.0000000 & 1.0000000 & ⋯ & 1.0000000 & 1.0000000 & 1.0000000 & 1.0000000 & 1.0000000 & 1.0000000 & 1.0000000 & 1.000000 & 1.0000000 & 1.0000000\\\\\n",
       "\t3 & 1:1649637:1652439:clu\\_1073\\_NA & 0.36900159 & 0.8739312 & 0.8739312 & 1.000000 & 0.8739312 & 0.8739312 & 1.000000 & 0.8739312 & 0.7098175 & ⋯ & 0.8739312 & 0.8739312 & 0.8739312 & 0.8739312 & 0.8739312 & 0.8739312 & 0.8739312 & 1.000000 & 0.8739312 & 0.8739312\\\\\n",
       "\t4 & 1:1649637:1652469:clu\\_1073\\_NA & 0.78793159 & 1.0000000 & 1.0000000 & 1.000000 & 1.0000000 & 1.0000000 & 1.000000 & 1.0000000 & 1.0000000 & ⋯ & 1.0000000 & 1.0000000 & 1.0000000 & 1.0000000 & 1.0000000 & 1.0000000 & 1.0000000 & 1.000000 & 1.0000000 & 1.0000000\\\\\n",
       "\t5 & 1:1649637:1716151:clu\\_1073\\_NA & 0.11839596 & 0.9882802 & 0.9882802 & 1.000000 & 0.9882802 & 0.9882802 & 1.000000 & 0.9882802 & 1.0000000 & ⋯ & 0.9882802 & 0.9882802 & 0.9882802 & 0.9882802 & 0.9882802 & 0.9882802 & 0.9882802 & 1.000000 & 0.9882802 & 0.9882802\\\\\n",
       "\t6 & 1:1716478:1716689:clu\\_1077\\_NA & 0.79044162 & 0.9754610 & 1.0000000 & 0.975461 & 1.0000000 & 1.0000000 & 0.975461 & 1.0000000 & 0.9754610 & ⋯ & 0.9754610 & 0.9754610 & 0.9754610 & 0.9754610 & 0.9754610 & 1.0000000 & 0.9754610 & 0.975461 & 0.9754610 & 0.9754610\\\\\n",
       "\\end{tabular}\n"
      ],
      "text/markdown": [
       "\n",
       "A data.frame: 6 × 49\n",
       "\n",
       "| <!--/--> | coord &lt;chr&gt; | RNAP.08 &lt;dbl&gt; | CTRL.100 &lt;dbl&gt; | CTRL.102 &lt;dbl&gt; | CTRL.103 &lt;dbl&gt; | CTRL.104 &lt;dbl&gt; | CTRL.105 &lt;dbl&gt; | CTRL.106 &lt;dbl&gt; | CTRL.107 &lt;dbl&gt; | CTRL.108 &lt;dbl&gt; | ⋯ ⋯ | SRR10970775 &lt;dbl&gt; | SRR10970777 &lt;dbl&gt; | SRR10970782 &lt;dbl&gt; | SRR10970786 &lt;dbl&gt; | SRR10970794 &lt;dbl&gt; | SRR10970800 &lt;dbl&gt; | SRR10970801 &lt;dbl&gt; | SRR10970806 &lt;dbl&gt; | SRR10970837 &lt;dbl&gt; | SRR10970997 &lt;dbl&gt; |\n",
       "|---|---|---|---|---|---|---|---|---|---|---|---|---|---|---|---|---|---|---|---|---|---|\n",
       "| 1 | 1:808623:808731:clu_1071_NA   | 0.06467672 | 1.0000000 | 1.0000000 | 1.000000 | 1.0000000 | 1.0000000 | 1.000000 | 1.0000000 | 1.0000000 | ⋯ | 1.0000000 | 1.0000000 | 1.0000000 | 1.0000000 | 1.0000000 | 1.0000000 | 1.0000000 | 1.000000 | 1.0000000 | 1.0000000 |\n",
       "| 2 | 1:808623:810067:clu_1071_NA   | 0.06467672 | 1.0000000 | 1.0000000 | 1.000000 | 1.0000000 | 1.0000000 | 1.000000 | 1.0000000 | 1.0000000 | ⋯ | 1.0000000 | 1.0000000 | 1.0000000 | 1.0000000 | 1.0000000 | 1.0000000 | 1.0000000 | 1.000000 | 1.0000000 | 1.0000000 |\n",
       "| 3 | 1:1649637:1652439:clu_1073_NA | 0.36900159 | 0.8739312 | 0.8739312 | 1.000000 | 0.8739312 | 0.8739312 | 1.000000 | 0.8739312 | 0.7098175 | ⋯ | 0.8739312 | 0.8739312 | 0.8739312 | 0.8739312 | 0.8739312 | 0.8739312 | 0.8739312 | 1.000000 | 0.8739312 | 0.8739312 |\n",
       "| 4 | 1:1649637:1652469:clu_1073_NA | 0.78793159 | 1.0000000 | 1.0000000 | 1.000000 | 1.0000000 | 1.0000000 | 1.000000 | 1.0000000 | 1.0000000 | ⋯ | 1.0000000 | 1.0000000 | 1.0000000 | 1.0000000 | 1.0000000 | 1.0000000 | 1.0000000 | 1.000000 | 1.0000000 | 1.0000000 |\n",
       "| 5 | 1:1649637:1716151:clu_1073_NA | 0.11839596 | 0.9882802 | 0.9882802 | 1.000000 | 0.9882802 | 0.9882802 | 1.000000 | 0.9882802 | 1.0000000 | ⋯ | 0.9882802 | 0.9882802 | 0.9882802 | 0.9882802 | 0.9882802 | 0.9882802 | 0.9882802 | 1.000000 | 0.9882802 | 0.9882802 |\n",
       "| 6 | 1:1716478:1716689:clu_1077_NA | 0.79044162 | 0.9754610 | 1.0000000 | 0.975461 | 1.0000000 | 1.0000000 | 0.975461 | 1.0000000 | 0.9754610 | ⋯ | 0.9754610 | 0.9754610 | 0.9754610 | 0.9754610 | 0.9754610 | 1.0000000 | 0.9754610 | 0.975461 | 0.9754610 | 0.9754610 |\n",
       "\n"
      ],
      "text/plain": [
       "  coord                         RNAP.08    CTRL.100  CTRL.102  CTRL.103\n",
       "1 1:808623:808731:clu_1071_NA   0.06467672 1.0000000 1.0000000 1.000000\n",
       "2 1:808623:810067:clu_1071_NA   0.06467672 1.0000000 1.0000000 1.000000\n",
       "3 1:1649637:1652439:clu_1073_NA 0.36900159 0.8739312 0.8739312 1.000000\n",
       "4 1:1649637:1652469:clu_1073_NA 0.78793159 1.0000000 1.0000000 1.000000\n",
       "5 1:1649637:1716151:clu_1073_NA 0.11839596 0.9882802 0.9882802 1.000000\n",
       "6 1:1716478:1716689:clu_1077_NA 0.79044162 0.9754610 1.0000000 0.975461\n",
       "  CTRL.104  CTRL.105  CTRL.106 CTRL.107  CTRL.108  ⋯ SRR10970775 SRR10970777\n",
       "1 1.0000000 1.0000000 1.000000 1.0000000 1.0000000 ⋯ 1.0000000   1.0000000  \n",
       "2 1.0000000 1.0000000 1.000000 1.0000000 1.0000000 ⋯ 1.0000000   1.0000000  \n",
       "3 0.8739312 0.8739312 1.000000 0.8739312 0.7098175 ⋯ 0.8739312   0.8739312  \n",
       "4 1.0000000 1.0000000 1.000000 1.0000000 1.0000000 ⋯ 1.0000000   1.0000000  \n",
       "5 0.9882802 0.9882802 1.000000 0.9882802 1.0000000 ⋯ 0.9882802   0.9882802  \n",
       "6 1.0000000 1.0000000 0.975461 1.0000000 0.9754610 ⋯ 0.9754610   0.9754610  \n",
       "  SRR10970782 SRR10970786 SRR10970794 SRR10970800 SRR10970801 SRR10970806\n",
       "1 1.0000000   1.0000000   1.0000000   1.0000000   1.0000000   1.000000   \n",
       "2 1.0000000   1.0000000   1.0000000   1.0000000   1.0000000   1.000000   \n",
       "3 0.8739312   0.8739312   0.8739312   0.8739312   0.8739312   1.000000   \n",
       "4 1.0000000   1.0000000   1.0000000   1.0000000   1.0000000   1.000000   \n",
       "5 0.9882802   0.9882802   0.9882802   0.9882802   0.9882802   1.000000   \n",
       "6 0.9754610   0.9754610   0.9754610   1.0000000   0.9754610   0.975461   \n",
       "  SRR10970837 SRR10970997\n",
       "1 1.0000000   1.0000000  \n",
       "2 1.0000000   1.0000000  \n",
       "3 0.8739312   0.8739312  \n",
       "4 1.0000000   1.0000000  \n",
       "5 0.9882802   0.9882802  \n",
       "6 0.9754610   0.9754610  "
      ]
     },
     "metadata": {},
     "output_type": "display_data"
    },
    {
     "name": "stdout",
     "output_type": "stream",
     "text": [
      "'data.frame':\t6605 obs. of  49 variables:\n",
      " $ coord      : chr  \"1:808623:808731:clu_1071_NA\" \"1:808623:810067:clu_1071_NA\" \"1:1649637:1652439:clu_1073_NA\" \"1:1649637:1652469:clu_1073_NA\" ...\n",
      " $ RNAP.08    : num  0.0647 0.0647 0.369 0.7879 0.1184 ...\n",
      " $ CTRL.100   : num  1 1 0.874 1 0.988 ...\n",
      " $ CTRL.102   : num  1 1 0.874 1 0.988 ...\n",
      " $ CTRL.103   : num  1 1 1 1 1 ...\n",
      " $ CTRL.104   : num  1 1 0.874 1 0.988 ...\n",
      " $ CTRL.105   : num  1 1 0.874 1 0.988 ...\n",
      " $ CTRL.106   : num  1 1 1 1 1 ...\n",
      " $ CTRL.107   : num  1 1 0.874 1 0.988 ...\n",
      " $ CTRL.108   : num  1 1 0.71 1 1 ...\n",
      " $ CTRL.109   : num  1 1 1 1 1 ...\n",
      " $ CTRL.110   : num  1 1 1 1 1 ...\n",
      " $ CTRL.111   : num  1 1 0.71 1 1 ...\n",
      " $ CTRL.112   : num  1 1 0.874 1 0.988 ...\n",
      " $ CTRL.113   : num  1 1 0.0299 0.4035 0.0741 ...\n",
      " $ CTRL.114   : num  0.7429 0.7429 0.0291 0.223 0.2593 ...\n",
      " $ CTRL.115   : num  0.974 0.974 0.115 0.679 0.191 ...\n",
      " $ CTRL.116   : num  1 1 0.0879 0.3825 0.4303 ...\n",
      " $ CTRL.117   : num  0.415 0.415 0.123 0.641 0.259 ...\n",
      " $ CTRL.118   : num  1 1 0.105 0.417 0.467 ...\n",
      " $ CTRL.119   : num  1 1 0.00256 0.06693 0.08355 ...\n",
      " $ SRR10970662: num  1 1 0.874 1 0.988 ...\n",
      " $ SRR10970663: num  1 1 0.874 1 0.988 ...\n",
      " $ SRR10970665: num  1 1 0.874 1 0.988 ...\n",
      " $ SRR10970668: num  1 1 0.874 1 0.988 ...\n",
      " $ SRR10970671: num  1 1 0.874 1 0.988 ...\n",
      " $ SRR10970674: num  1 1 0.874 1 0.988 ...\n",
      " $ SRR10970679: num  1 1 0.874 1 0.988 ...\n",
      " $ SRR10970684: num  1 1 0.874 1 0.988 ...\n",
      " $ SRR10970712: num  1 1 0.874 1 0.988 ...\n",
      " $ SRR10970713: num  1 1 0.874 1 0.988 ...\n",
      " $ SRR10970714: num  1 1 0.874 1 0.988 ...\n",
      " $ SRR10970715: num  1 1 0.874 1 0.988 ...\n",
      " $ SRR10970720: num  1 1 0.874 1 0.988 ...\n",
      " $ SRR10970725: num  1 1 0.874 1 0.988 ...\n",
      " $ SRR10970727: num  1 1 0.874 1 0.988 ...\n",
      " $ SRR10970729: num  1 1 0.874 1 0.988 ...\n",
      " $ SRR10970737: num  1 1 0.874 1 0.988 ...\n",
      " $ SRR10970748: num  1 1 0.874 1 0.988 ...\n",
      " $ SRR10970775: num  1 1 0.874 1 0.988 ...\n",
      " $ SRR10970777: num  1 1 0.874 1 0.988 ...\n",
      " $ SRR10970782: num  1 1 0.874 1 0.988 ...\n",
      " $ SRR10970786: num  1 1 0.874 1 0.988 ...\n",
      " $ SRR10970794: num  1 1 0.874 1 0.988 ...\n",
      " $ SRR10970800: num  1 1 0.874 1 0.988 ...\n",
      " $ SRR10970801: num  1 1 0.874 1 0.988 ...\n",
      " $ SRR10970806: num  1 1 1 1 1 ...\n",
      " $ SRR10970837: num  1 1 0.874 1 0.988 ...\n",
      " $ SRR10970997: num  1 1 0.874 1 0.988 ...\n"
     ]
    }
   ],
   "source": [
    "colnames(b) <- sub(pattern = \"_Aligned.sortedByCoord.out.bam\", replacement = \"\", x = colnames(b))\n",
    "head (b)\n",
    "str (b)"
   ]
  },
  {
   "cell_type": "code",
   "execution_count": 12,
   "id": "075a9020-0cd4-48e2-9b86-9627bd4011e4",
   "metadata": {
    "execution": {
     "iopub.execute_input": "2024-09-11T17:16:50.663730Z",
     "iopub.status.busy": "2024-09-11T17:16:50.661033Z",
     "iopub.status.idle": "2024-09-11T17:16:51.041439Z",
     "shell.execute_reply": "2024-09-11T17:16:51.039048Z"
    }
   },
   "outputs": [],
   "source": [
    "write_tsv(b, \"{sample}_nofilter_pVals.tsv\")"
   ]
  },
  {
   "cell_type": "code",
   "execution_count": 10,
   "id": "d11db7ae-b597-4be3-9ee1-ab5fb33051ed",
   "metadata": {
    "collapsed": true,
    "execution": {
     "iopub.execute_input": "2024-09-11T17:01:15.904355Z",
     "iopub.status.busy": "2024-09-11T17:01:15.902093Z",
     "iopub.status.idle": "2024-09-11T17:01:15.971122Z",
     "shell.execute_reply": "2024-09-11T17:01:15.968755Z"
    },
    "jupyter": {
     "outputs_hidden": true
    },
    "scrolled": true
   },
   "outputs": [
    {
     "name": "stdout",
     "output_type": "stream",
     "text": [
      "'data.frame':\t456 obs. of  49 variables:\n",
      " $ coord      : chr  \"1:29053312:29058589:clu_1151_NA\" \"1:29053312:29060422:clu_1151_NA\" \"1:29053312:29064982:clu_1151_NA\" \"1:29058645:29064982:clu_1151_NA\" ...\n",
      " $ RNAP.08    : num  0.040432 0.03665 0.000979 0.015797 0.041026 ...\n",
      " $ CTRL.100   : num  1 1 1 0.929 1 ...\n",
      " $ CTRL.102   : num  1 1 1 0.929 1 ...\n",
      " $ CTRL.103   : num  1 1 1 0.929 1 ...\n",
      " $ CTRL.104   : num  1 1 1 0.929 1 ...\n",
      " $ CTRL.105   : num  1 1 1 0.929 1 ...\n",
      " $ CTRL.106   : num  1 1 1 0.929 1 ...\n",
      " $ CTRL.107   : num  1 1 1 0.929 1 ...\n",
      " $ CTRL.108   : num  1 1 1 0.929 1 ...\n",
      " $ CTRL.109   : num  1 1 1 0.929 1 ...\n",
      " $ CTRL.110   : num  1 1 1 1 1 ...\n",
      " $ CTRL.111   : num  1 1 0.833 1 1 ...\n",
      " $ CTRL.112   : num  1 1 1 0.929 1 ...\n",
      " $ CTRL.113   : num  1 0.731 0.135 1 0.676 ...\n",
      " $ CTRL.114   : num  1 0.479 0.022 1 0.431 ...\n",
      " $ CTRL.115   : num  1 0.479 0.022 1 0.431 ...\n",
      " $ CTRL.116   : num  1 0.731 0.135 1 0.676 ...\n",
      " $ CTRL.117   : num  0.5701 0.1101 0.0733 0.4815 0.0905 ...\n",
      " $ CTRL.118   : num  1 0.479 0.022 1 0.431 ...\n",
      " $ CTRL.119   : num  0.7969 0.28212 0.00241 0.89447 0.24537 ...\n",
      " $ SRR10970662: num  1 1 1 1 0.926 ...\n",
      " $ SRR10970663: num  0.91 0.55 0.784 1 0.608 ...\n",
      " $ SRR10970665: num  1 1 1 0.929 1 ...\n",
      " $ SRR10970668: num  1 1 1 0.929 1 ...\n",
      " $ SRR10970671: num  1 0.632 1 1 0.789 ...\n",
      " $ SRR10970674: num  0.884 0.551 0.593 1 0.149 ...\n",
      " $ SRR10970679: num  1 0.874 1 1 1 ...\n",
      " $ SRR10970684: num  1 1 1 1 1 ...\n",
      " $ SRR10970712: num  0.627 1 0.889 1 1 ...\n",
      " $ SRR10970713: num  1 1 1 1 0.926 ...\n",
      " $ SRR10970714: num  1 1 1 0.929 1 ...\n",
      " $ SRR10970715: num  1 1 1 1 0.818 ...\n",
      " $ SRR10970720: num  1 0.975 0.464 1 0.921 ...\n",
      " $ SRR10970725: num  0.851 0.202 0.709 0.948 1 ...\n",
      " $ SRR10970727: num  1 1 0.889 1 0.684 ...\n",
      " $ SRR10970729: num  0.747 0.524 0.58 0.844 0.359 ...\n",
      " $ SRR10970737: num  0.747 0.524 0.925 0.844 0.584 ...\n",
      " $ SRR10970748: num  1 1 1 0.929 1 ...\n",
      " $ SRR10970775: num  0.973 0.787 1 1 0.852 ...\n",
      " $ SRR10970777: num  1 0.975 0.981 1 1 ...\n",
      " $ SRR10970782: num  0.531 0.975 1 1 1 ...\n",
      " $ SRR10970786: num  1 1 1 0.929 1 ...\n",
      " $ SRR10970794: num  1 1 1 1 1 ...\n",
      " $ SRR10970800: num  0.77 0.237 0.75 0.344 0.656 ...\n",
      " $ SRR10970801: num  1 0.498 1 1 0.921 ...\n",
      " $ SRR10970806: num  1 0.76 0.776 1 0.818 ...\n",
      " $ SRR10970837: num  1 0.76 0.776 1 0.818 ...\n",
      " $ SRR10970997: num  1 0.975 1 1 0.544 ...\n"
     ]
    }
   ],
   "source": [
    "df_filtrado <- b [which(b$RNAP.08 <= 0.05),]\n",
    "str (df_filtrado)"
   ]
  },
  {
   "cell_type": "code",
   "execution_count": 11,
   "id": "f81e367c-423d-43a2-9d42-aeef9431d5b7",
   "metadata": {
    "execution": {
     "iopub.execute_input": "2024-09-11T17:01:47.708040Z",
     "iopub.status.busy": "2024-09-11T17:01:47.705948Z",
     "iopub.status.idle": "2024-09-11T17:01:47.823839Z",
     "shell.execute_reply": "2024-09-11T17:01:47.820239Z"
    }
   },
   "outputs": [],
   "source": [
    "write_tsv(df_filtrado, \"{sample}_filter_pVals.tsv\")"
   ]
  },
  {
   "cell_type": "code",
   "execution_count": null,
   "id": "01ba7800-507d-4917-9919-2f43d5d33a87",
   "metadata": {},
   "outputs": [],
   "source": []
  }
 ],
 "metadata": {
  "kernelspec": {
   "display_name": "R [conda env:8e3739198dc3717b09045f0b9edf308f_]",
   "language": "R",
   "name": "conda-env-8e3739198dc3717b09045f0b9edf308f_-r"
  },
  "language_info": {
   "codemirror_mode": "r",
   "file_extension": ".r",
   "mimetype": "text/x-r-source",
   "name": "R",
   "pygments_lexer": "r",
   "version": "4.3.1"
  }
 },
 "nbformat": 4,
 "nbformat_minor": 5
}
