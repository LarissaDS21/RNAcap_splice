{
 "cells": [
  {
   "cell_type": "code",
   "execution_count": null,
   "id": "d43ba7d4-9b73-464a-bc79-3615c2776fa8",
   "metadata": {
    "vscode": {
     "languageId": "r"
    }
   },
   "outputs": [],
   "source": [
    "library(tidyverse)\n",
    "library(purrr)"
   ]
  },
  {
   "cell_type": "code",
   "execution_count": null,
   "id": "cb5af390-241a-491f-81f8-d49e55fa987b",
   "metadata": {
    "vscode": {
     "languageId": "r"
    }
   },
   "outputs": [],
   "source": [
    "getwd() #pasta em que estou"
   ]
  },
  {
   "cell_type": "code",
   "execution_count": null,
   "id": "544f1e10-a7ab-48bf-ab25-3b7a28a45866",
   "metadata": {
    "scrolled": true,
    "vscode": {
     "languageId": "r"
    }
   },
   "outputs": [],
   "source": [
    "#Original\n",
    "arquivos_jc <- snakemake@input[[\"jc_txt\"]]\n",
    "lista_de_dfs <- list()"
   ]
  },
  {
   "cell_type": "code",
   "execution_count": null,
   "id": "d058f8fa-239b-452e-92d6-e13038e66f73",
   "metadata": {
    "scrolled": true,
    "vscode": {
     "languageId": "r"
    }
   },
   "outputs": [],
   "source": [
    "for(arq in arquivos_jc){ #Laço 'for' para intitular cada df com seu respectivo evento e salvar todos em uma lista\n",
    "    b <- str_split(arq,pattern = \"/\",simplify = T) \n",
    "    evento <- str_split(b[ncol(b)],\"[.]\", simplify = T)[1] # Salvando o nome do evento de splice nessa variável\n",
    "    df <- read_tsv(arq)  #Salvar cada dataframe nessa variável\n",
    "    df$Event <- evento #Cria uma última coluna intitulada'Event' com a string salva na variável evento\n",
    "    lista_de_dfs[[evento]] <- df ## Salvar nessa variável todos os dfs em forma de lista?? Por que tem que colocar [[evento]]?\n",
    "    }\n",
    "\n",
    "#print(lista_de_dfs)\n",
    "df_amostra <- lista_de_dfs %>% reduce(full_join) # União de todos os dfs na variável df_amostra\n",
    "df_amostra$ID...12 <- NULL\n",
    "df_amostra$ID...14 <- NULL\n",
    "df_final <- df_amostra[, c('Event','ID...1','GeneID','geneSymbol','chr','strand','longExonStart_0base','longExonEnd','shortES',\n",
    "                          'shortEE','flankingES','flankingEE','1stExonStart_0base','1stExonEnd','2ndExonStart_0base','2ndExonEnd',\n",
    "                          'upstreamES','upstreamEE','downstreamES','downstreamEE','riExonStart_0base','riExonEnd','exonStart_0base',\n",
    "                          'exonEnd','IJC_SAMPLE_1','SJC_SAMPLE_1','IJC_SAMPLE_2','SJC_SAMPLE_2','IncFormLen','SkipFormLen','PValue',\n",
    "                          'FDR','IncLevel1','IncLevel2','IncLevelDifference')] #organização das colunas\n",
    "write_tsv(df_final, snakemake@output[[\"table_joined_nofilter\"]])\n",
    "df_filtros <- df_final [which(df_final$PValue <= 0.05 & df_final$FDR <= 0.05 \n",
    "                            & (df_final$IncLevelDifference >= 0.05 | df_final$IncLevelDifference <=-0.05)),] #filtros para eventos significativos\n",
    "write_tsv(df_filtros, snakemake@output[[\"table_joined_filtered\"]])"
   ]
  }
 ],
 "metadata": {
  "kernelspec": {
   "display_name": "R",
   "language": "R",
   "name": "ir"
  },
  "language_info": {
   "codemirror_mode": "r",
   "file_extension": ".r",
   "mimetype": "text/x-r-source",
   "name": "R",
   "pygments_lexer": "r",
   "version": "4.3.1"
  }
 },
 "nbformat": 4,
 "nbformat_minor": 5
}
